{
 "cells": [
  {
   "cell_type": "code",
   "execution_count": 1,
   "metadata": {},
   "outputs": [],
   "source": [
    "import cv2\n",
    "import numpy as np\n",
    "import os"
   ]
  },
  {
   "cell_type": "code",
   "execution_count": 2,
   "metadata": {},
   "outputs": [],
   "source": [
    "dataset_path=\"./data/\"\n",
    "faceData=[]\n",
    "labels=[]\n",
    "\n",
    "classId=0\n",
    "namesMap={}\n",
    "offset=20\n"
   ]
  },
  {
   "cell_type": "code",
   "execution_count": 3,
   "metadata": {},
   "outputs": [
    {
     "name": "stdout",
     "output_type": "stream",
     "text": [
      "Sharmistha.npy\n",
      "Souradeep.npy\n"
     ]
    }
   ],
   "source": [
    "for f in os.listdir(dataset_path):\n",
    "    print(f)"
   ]
  },
  {
   "cell_type": "code",
   "execution_count": 4,
   "metadata": {},
   "outputs": [
    {
     "name": "stdout",
     "output_type": "stream",
     "text": [
      "(23, 100, 100, 3)\n",
      "(23, 30000)\n",
      "(29, 100, 100, 3)\n",
      "(29, 30000)\n"
     ]
    }
   ],
   "source": [
    "for f in os.listdir(dataset_path):\n",
    "    if f.endswith(\".npy\"):\n",
    "        namesMap[classId]=f[:-4]\n",
    "        dataItem=np.load(dataset_path + f)\n",
    "        print(dataItem.shape)\n",
    "        #x-values\n",
    "        n=dataItem.shape[0]\n",
    "        dataItem=dataItem.reshape((n,-1))\n",
    "        print(dataItem.shape)\n",
    "        m=dataItem.shape[0]\n",
    "\n",
    "        faceData.append(dataItem)\n",
    "\n",
    "        #Y-values\n",
    "        target=classId*np.ones((m,))\n",
    "        classId+=1\n",
    "        labels.append(target)\n"
   ]
  },
  {
   "cell_type": "code",
   "execution_count": 5,
   "metadata": {},
   "outputs": [
    {
     "name": "stdout",
     "output_type": "stream",
     "text": [
      "[array([[206, 205, 207, ..., 152, 161, 194],\n",
      "       [215, 213, 225, ...,  97, 147, 199],\n",
      "       [182, 183, 186, ...,  82, 117, 161],\n",
      "       ...,\n",
      "       [103, 124, 159, ...,  44,  49,  50],\n",
      "       [ 96, 129, 164, ...,  36,  39,  37],\n",
      "       [ 93, 128, 168, ...,  35,  41,  43]], dtype=uint8), array([[ 89,  88,  84, ...,  40,  77, 115],\n",
      "       [186, 192, 184, ...,  41,  68, 109],\n",
      "       [162, 159, 154, ...,  27,  63,  97],\n",
      "       ...,\n",
      "       [213, 212, 206, ..., 148, 113, 102],\n",
      "       [214, 211, 206, ..., 141, 114, 107],\n",
      "       [217, 215, 210, ..., 199, 177, 193]], dtype=uint8)]\n",
      "[array([0., 0., 0., 0., 0., 0., 0., 0., 0., 0., 0., 0., 0., 0., 0., 0., 0.,\n",
      "       0., 0., 0., 0., 0., 0.]), array([1., 1., 1., 1., 1., 1., 1., 1., 1., 1., 1., 1., 1., 1., 1., 1., 1.,\n",
      "       1., 1., 1., 1., 1., 1., 1., 1., 1., 1., 1., 1.])]\n"
     ]
    }
   ],
   "source": [
    "print(faceData)\n",
    "print(labels)"
   ]
  },
  {
   "cell_type": "code",
   "execution_count": 6,
   "metadata": {},
   "outputs": [
    {
     "name": "stdout",
     "output_type": "stream",
     "text": [
      "(52, 30000)\n",
      "(52, 1)\n",
      "{0: 'Sharmistha', 1: 'Souradeep'}\n"
     ]
    }
   ],
   "source": [
    "xtT=np.concatenate(faceData,axis=0)\n",
    "yT=np.concatenate(labels,axis=0).reshape((-1,1))\n",
    "\n",
    "print(xtT.shape)\n",
    "print(yT.shape)\n",
    "\n",
    "\n",
    "print(namesMap)"
   ]
  },
  {
   "cell_type": "markdown",
   "metadata": {},
   "source": [
    "KNN"
   ]
  },
  {
   "cell_type": "code",
   "execution_count": 7,
   "metadata": {},
   "outputs": [],
   "source": [
    "\n",
    "def dist(p, q):\n",
    "    return np.sqrt(np.sum((p - q) ** 2))\n",
    "\n",
    "def knn(X, y, xt, k=5):\n",
    "    m = X.shape[0]\n",
    "    dlist = []\n",
    "\n",
    "    for i in range(m):\n",
    "        d = dist(X[i], xt)\n",
    "        dlist.append((d, y[i]))\n",
    "\n",
    "    # Sort dlist based on distance\n",
    "    dlist = sorted(dlist, key=lambda x: x[0])\n",
    "    # Select the first k elements\n",
    "    dlist = dlist[:k]\n",
    "\n",
    "    # Separate distances and labels\n",
    "    distances = np.array([item[0] for item in dlist])\n",
    "    labels = np.array([item[1] for item in dlist])\n",
    "\n",
    "    # Find the most common label\n",
    "    unique_labels, counts = np.unique(labels, return_counts=True)\n",
    "    idx = counts.argmax()\n",
    "    pred = unique_labels[idx]\n",
    "\n",
    "    return int(pred)\n",
    "\n",
    "\n",
    "#predictions\n",
    "cam=cv2.VideoCapture(0)\n",
    "model=cv2.CascadeClassifier(\"haarcascade_frontalface_alt.xml\")\n",
    "\n",
    "#camera object\n",
    "\n",
    "while True:\n",
    "    sucess,img=cam.read()\n",
    "    if not sucess:\n",
    "        print(\"Cannot read\")\n",
    "    \n",
    "    faces=model.detectMultiScale(img,1.3,5)\n",
    "    \n",
    "\n",
    "   \n",
    "    for f in faces:\n",
    "\n",
    "        x,y,w,h=f\n",
    "        \n",
    "\n",
    "        #cropping the image I got\n",
    "        cropped_image=img[y-offset:y+h+offset, x-offset:x+w+offset] #its just like slicing operation\n",
    "        cropped_image=cv2.resize(cropped_image,(100,100))\n",
    "        \n",
    "\n",
    "\n",
    "        #predict using KNN\n",
    "        classPredicted=knn(xtT,yT,cropped_image.flatten())\n",
    "        #name\n",
    "        namePredicted=namesMap[classPredicted]\n",
    "\n",
    "        cv2.putText(img,namePredicted,(x,y-10),cv2.FONT_HERSHEY_SIMPLEX,1,(0,0,255),2,cv2.LINE_AA)\n",
    "        cv2.rectangle(img,(x,y),(x+w,y+h),(0,255,0),2)\n",
    "    \n",
    "    cv2.imshow(\"Prediction_Window\",img)\n",
    "    key=cv2.waitKey(1)\n",
    "    if(key==ord('q')):\n",
    "        break\n",
    "\n",
    "cam.release()\n",
    "cv2.destroyAllWindows()\n"
   ]
  },
  {
   "cell_type": "code",
   "execution_count": 8,
   "metadata": {},
   "outputs": [],
   "source": [
    "cam.release()\n",
    "cv2.destroyAllWindows()\n"
   ]
  }
 ],
 "metadata": {
  "kernelspec": {
   "display_name": "Python 3",
   "language": "python",
   "name": "python3"
  },
  "language_info": {
   "codemirror_mode": {
    "name": "ipython",
    "version": 3
   },
   "file_extension": ".py",
   "mimetype": "text/x-python",
   "name": "python",
   "nbconvert_exporter": "python",
   "pygments_lexer": "ipython3",
   "version": "3.12.4"
  }
 },
 "nbformat": 4,
 "nbformat_minor": 2
}
