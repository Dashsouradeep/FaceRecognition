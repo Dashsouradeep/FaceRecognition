{
 "cells": [
  {
   "cell_type": "code",
   "execution_count": 23,
   "metadata": {},
   "outputs": [],
   "source": [
    "import numpy as np\n",
    "import pandas as pd"
   ]
  },
  {
   "cell_type": "markdown",
   "metadata": {},
   "source": [
    "Data Collection"
   ]
  },
  {
   "cell_type": "code",
   "execution_count": 24,
   "metadata": {},
   "outputs": [],
   "source": [
    "file_name=input(\"enter name of the person\")\n",
    "dataset_path=\"./data/\""
   ]
  },
  {
   "cell_type": "code",
   "execution_count": 25,
   "metadata": {},
   "outputs": [],
   "source": [
    "import cv2\n",
    "cam=cv2.VideoCapture(0)\n",
    "model=cv2.CascadeClassifier(\"haarcascade_frontalface_alt.xml\")\n",
    "offset=20"
   ]
  },
  {
   "cell_type": "code",
   "execution_count": 26,
   "metadata": {},
   "outputs": [],
   "source": [
    "while True:\n",
    "    sucess,img=cam.read()\n",
    "    if not sucess:\n",
    "        print(\"Cannot read\")\n",
    "    \n",
    "    faces=model.detectMultiScale(img,1.3,5)\n",
    "    #I am sorting the faces by largest box area\n",
    "    faces=sorted(faces,key= lambda f:f[2]*f[3])\n",
    "\n",
    "    #pick the largest face\n",
    "    if len(faces)>0:\n",
    "        f=faces[-1]\n",
    "\n",
    "        x,y,w,h=f\n",
    "        cv2.rectangle(img,(x,y),(x+w,y+h),(20,255,20),2)\n",
    "\n",
    "        #cropping the image I got\n",
    "        cropped_image=img[y-offset:y+h+offset, x-offset:x+w+offset] #its just like slicing operation\n",
    "\n",
    "    cv2.imshow(\"Image Window\",img)\n",
    "    cv2.imshow(\"Cropped face\",cropped_image)\n",
    "\n",
    "    key=cv2.waitKey(1)\n",
    "    if(key==ord('q')):\n",
    "        break\n",
    "\n"
   ]
  },
  {
   "cell_type": "code",
   "execution_count": 27,
   "metadata": {},
   "outputs": [],
   "source": [
    "cam.release()\n",
    "cv2.destroyAllWindows()"
   ]
  }
 ],
 "metadata": {
  "kernelspec": {
   "display_name": "Python 3",
   "language": "python",
   "name": "python3"
  },
  "language_info": {
   "codemirror_mode": {
    "name": "ipython",
    "version": 3
   },
   "file_extension": ".py",
   "mimetype": "text/x-python",
   "name": "python",
   "nbconvert_exporter": "python",
   "pygments_lexer": "ipython3",
   "version": "3.12.2"
  }
 },
 "nbformat": 4,
 "nbformat_minor": 2
}
